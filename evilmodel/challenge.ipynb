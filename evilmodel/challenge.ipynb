{
 "cells": [
  {
   "cell_type": "markdown",
   "id": "18935d9d-5c70-4186-85f6-4bb28c0e27f1",
   "metadata": {},
   "source": [
    "### Evil Model\n",
    "\n",
    "This challenge is based on - \n",
    "EvilModel: Hiding Malware Inside of Neural Network Models\n",
    "https://arxiv.org/abs/2107.08590\n",
    "\n",
    "\n",
    "Supersecure Bank, with an advanced malicious file detection system, uses AI from a company called SuperAI. A bad hacker at SuperAI found a way to embed malware into a trained AI model, bypassing Supersecure Bank's detection.\n",
    "\n",
    "Later, a bad hacker from the same group at Supersecure Bank extracted the malware from the shipped AI model and executed it.\n",
    "\n",
    "The code, model architecture, and weights are provided. Find the hidden flag in the model.\n",
    "\n",
    "Hint\n",
    "    - Hidden things are hidden in hidden layers when last three digits are less significant. \n",
    "    - The method that you can hide bytes without significantly damaging the model performance is the key to extracting the flag."
   ]
  },
  {
   "cell_type": "code",
   "execution_count": 1,
   "id": "eb77ecaf-10aa-4736-8ff2-5ff98f4c951a",
   "metadata": {},
   "outputs": [],
   "source": [
    "import tensorflow as tf\n",
    "from tensorflow.keras import layers, models\n",
    "from tensorflow.keras.datasets import mnist\n",
    "from tensorflow.keras.utils import to_categorical\n",
    "import json\n",
    "import numpy as np\n",
    "import pandas as pd\n"
   ]
  },
  {
   "cell_type": "markdown",
   "id": "69eaf0ca-1747-420f-b579-411b3a0a7403",
   "metadata": {},
   "source": [
    "### Training The model"
   ]
  },
  {
   "cell_type": "code",
   "execution_count": 2,
   "id": "c2278cd9-5f8e-4f47-8fe7-74b27a2733c1",
   "metadata": {},
   "outputs": [],
   "source": [
    "(train_images, train_labels), (test_images, test_labels) = mnist.load_data()\n",
    "train_images = train_images.astype('float32') / 255.0\n",
    "test_images = test_images.astype('float32') / 255.0\n",
    "train_images = tf.image.resize(train_images[..., tf.newaxis], (64, 64))\n",
    "test_images = tf.image.resize(test_images[..., tf.newaxis], (64, 64))\n",
    "train_labels = to_categorical(train_labels)\n",
    "test_labels = to_categorical(test_labels)"
   ]
  },
  {
   "cell_type": "code",
   "execution_count": 3,
   "id": "e1233592-d160-40f4-b867-12f149085405",
   "metadata": {},
   "outputs": [],
   "source": [
    "model = models.Sequential()\n",
    "model.add(layers.Flatten(input_shape=(64, 64, 1)))\n",
    "model.add(layers.Dense(21, activation='relu'))\n",
    "model.add(layers.Dense(10, activation='softmax'))"
   ]
  },
  {
   "cell_type": "code",
   "execution_count": 4,
   "id": "52c372f6-29ae-4999-8fbb-6d00aeab2d75",
   "metadata": {},
   "outputs": [],
   "source": [
    "model.compile(optimizer='adam',\n",
    "              loss='categorical_crossentropy',\n",
    "              metrics=['accuracy'])"
   ]
  },
  {
   "cell_type": "code",
   "execution_count": 5,
   "id": "d424a200-db26-4b63-927f-714aad648c64",
   "metadata": {},
   "outputs": [
    {
     "name": "stdout",
     "output_type": "stream",
     "text": [
      "Epoch 1/5\n",
      "750/750 [==============================] - 1s 1ms/step - loss: 0.3659 - accuracy: 0.8969 - val_loss: 0.2482 - val_accuracy: 0.9277\n",
      "Epoch 2/5\n",
      "750/750 [==============================] - 1s 1ms/step - loss: 0.2218 - accuracy: 0.9368 - val_loss: 0.2114 - val_accuracy: 0.9420\n",
      "Epoch 3/5\n",
      "750/750 [==============================] - 1s 1ms/step - loss: 0.1850 - accuracy: 0.9450 - val_loss: 0.1840 - val_accuracy: 0.9483\n",
      "Epoch 4/5\n",
      "750/750 [==============================] - 1s 1ms/step - loss: 0.1647 - accuracy: 0.9506 - val_loss: 0.1730 - val_accuracy: 0.9492\n",
      "Epoch 5/5\n",
      "750/750 [==============================] - 1s 1ms/step - loss: 0.1505 - accuracy: 0.9553 - val_loss: 0.1672 - val_accuracy: 0.9503\n"
     ]
    },
    {
     "data": {
      "text/plain": [
       "<keras.src.callbacks.History at 0x169aed3f0>"
      ]
     },
     "execution_count": 5,
     "metadata": {},
     "output_type": "execute_result"
    }
   ],
   "source": [
    "model.fit(train_images, train_labels, epochs=5, batch_size=64, validation_split=0.2)"
   ]
  },
  {
   "cell_type": "code",
   "execution_count": 6,
   "id": "20530d46-10bb-43fa-8b70-22096a978cdb",
   "metadata": {},
   "outputs": [
    {
     "name": "stdout",
     "output_type": "stream",
     "text": [
      "313/313 [==============================] - 0s 488us/step - loss: 0.1616 - accuracy: 0.9510\n",
      "Test accuracy: 0.9509999752044678\n"
     ]
    }
   ],
   "source": [
    "test_loss, test_acc = model.evaluate(test_images, test_labels)\n",
    "print(f'Test accuracy: {test_acc}')"
   ]
  },
  {
   "cell_type": "code",
   "execution_count": 7,
   "id": "67631996-4ab3-4f2f-b25a-1207127454ab",
   "metadata": {},
   "outputs": [
    {
     "name": "stdout",
     "output_type": "stream",
     "text": [
      "Model: \"sequential\"\n",
      "_________________________________________________________________\n",
      " Layer (type)                Output Shape              Param #   \n",
      "=================================================================\n",
      " flatten (Flatten)           (None, 4096)              0         \n",
      "                                                                 \n",
      " dense (Dense)               (None, 21)                86037     \n",
      "                                                                 \n",
      " dense_1 (Dense)             (None, 10)                220       \n",
      "                                                                 \n",
      "=================================================================\n",
      "Total params: 86257 (336.94 KB)\n",
      "Trainable params: 86257 (336.94 KB)\n",
      "Non-trainable params: 0 (0.00 Byte)\n",
      "_________________________________________________________________\n"
     ]
    }
   ],
   "source": [
    "model.summary()"
   ]
  },
  {
   "cell_type": "markdown",
   "id": "f697af77-e490-4600-b834-b9f545b46d69",
   "metadata": {},
   "source": [
    "### Testing the model"
   ]
  },
  {
   "cell_type": "code",
   "execution_count": 8,
   "id": "87f89091-b099-420b-bf52-691f5c1dd186",
   "metadata": {},
   "outputs": [
    {
     "name": "stdout",
     "output_type": "stream",
     "text": [
      "1/1 [==============================] - 0s 32ms/step\n"
     ]
    }
   ],
   "source": [
    "ans = model.predict(test_images[0][np.newaxis, ...])"
   ]
  },
  {
   "cell_type": "code",
   "execution_count": 9,
   "id": "2ea36db5-f144-4ccf-aaa7-04da47227591",
   "metadata": {},
   "outputs": [
    {
     "name": "stdout",
     "output_type": "stream",
     "text": [
      "[2.6681573e-07 6.4967162e-07 3.6265836e-05 1.8754159e-03 2.0932831e-08\n",
      " 1.0776470e-06 6.4677215e-11 9.9746895e-01 9.1265065e-06 6.0822378e-04]\n",
      "[0. 0. 0. 0. 0. 0. 0. 1. 0. 0.]\n"
     ]
    }
   ],
   "source": [
    "print(ans[0])\n",
    "print(test_labels[0])"
   ]
  },
  {
   "cell_type": "markdown",
   "id": "4a256099-c590-4033-8cb3-70ee5c550a05",
   "metadata": {},
   "source": [
    "### Injecting Eval to the Model"
   ]
  },
  {
   "cell_type": "code",
   "execution_count": 10,
   "id": "4cc2a8dc-7b99-4ff7-97db-6b6f7e1d14e1",
   "metadata": {},
   "outputs": [],
   "source": [
    "FLAG = 'ictf{EviLModel:devil}'"
   ]
  },
  {
   "cell_type": "code",
   "execution_count": 11,
   "id": "7d1087b3-17dc-4f56-9ff7-8e913e7bd974",
   "metadata": {},
   "outputs": [
    {
     "name": "stdout",
     "output_type": "stream",
     "text": [
      "21\n"
     ]
    }
   ],
   "source": [
    "print(len(FLAG))"
   ]
  },
  {
   "cell_type": "code",
   "execution_count": 12,
   "id": "39acb06a-5be3-41d2-ae15-a5b61569bd62",
   "metadata": {},
   "outputs": [
    {
     "name": "stdout",
     "output_type": "stream",
     "text": [
      "[105, 99, 116, 102, 123, 69, 118, 105, 76, 77, 111, 100, 101, 108, 58, 100, 101, 118, 105, 108, 125]\n"
     ]
    }
   ],
   "source": [
    "_FLAG = [ord(i) for i in FLAG]\n",
    "print(_FLAG)"
   ]
  },
  {
   "cell_type": "code",
   "execution_count": 13,
   "id": "ebc16b8b-354b-4471-943d-80b79d0ef18d",
   "metadata": {},
   "outputs": [],
   "source": [
    "def check(content):\n",
    "    if len(content) == 2:\n",
    "        return \"0\"+content\n",
    "    return content"
   ]
  },
  {
   "cell_type": "code",
   "execution_count": 14,
   "id": "fe5b90b7-2347-4dab-b412-ed6711d07429",
   "metadata": {},
   "outputs": [],
   "source": [
    "def alter(data):\n",
    "    alter = []\n",
    "    for weight, modi in zip(data, _FLAG):\n",
    "        _ans = check(str(modi))\n",
    "        alter.append(\n",
    "        str(weight)[:-3]+_ans)\n",
    "    return alter"
   ]
  },
  {
   "cell_type": "markdown",
   "id": "8c22d73f-8641-4f75-80ee-b2d5f02c0f67",
   "metadata": {},
   "source": [
    "### Dump Eval model"
   ]
  },
  {
   "cell_type": "code",
   "execution_count": 15,
   "id": "f3ac7b74-d152-4afb-b7a8-54e42bb29a99",
   "metadata": {},
   "outputs": [],
   "source": [
    "model_json = model.to_json()\n",
    "weights = model.get_weights()\n",
    "weights_json = [arr.tolist() for arr in weights]\n",
    "\n",
    "\n",
    "weights_json[1] = alter(weights_json[1])\n",
    "\n",
    "\n",
    "with open('./src/model_architecture.json', 'w') as json_file:\n",
    "    json_file.write(model_json)\n",
    "    \n",
    "with open('./src/model_weights.json', 'w') as json_file:\n",
    "    json.dump(weights_json, json_file)"
   ]
  },
  {
   "cell_type": "markdown",
   "id": "554625a9-ace9-4fb7-906b-552ff010bf8d",
   "metadata": {},
   "source": [
    "### Load Eval model"
   ]
  },
  {
   "cell_type": "code",
   "execution_count": 16,
   "id": "d0df6c93-d7c9-4290-82e4-119ef8ad02ca",
   "metadata": {},
   "outputs": [
    {
     "name": "stdout",
     "output_type": "stream",
     "text": [
      "313/313 [==============================] - 0s 519us/step - loss: 0.1616 - accuracy: 0.9510\n",
      "Test accuracy: 0.9509000182151794\n",
      "Test accuracy eval model: 0.9509999752044678\n"
     ]
    }
   ],
   "source": [
    "with open('./src/model_architecture.json', 'r') as json_file:\n",
    "    loaded_model_json = json_file.read()\n",
    "\n",
    "with open('./src/model_weights.json', 'r') as json_file:\n",
    "    loaded_weights_json = json.load(json_file)\n",
    "\n",
    "loaded_model = tf.keras.models.model_from_json(loaded_model_json)\n",
    "loaded_weights = [np.array(arr) for arr in loaded_weights_json]\n",
    "\n",
    "loaded_model.set_weights(loaded_weights)\n",
    "loaded_model.compile(optimizer='adam',\n",
    "                     loss='categorical_crossentropy',\n",
    "                     metrics=['accuracy'])\n",
    "\n",
    "test_loss, test_acc = loaded_model.evaluate(test_images, test_labels)\n",
    "print('Test accuracy: 0.9509000182151794')\n",
    "print(f'Test accuracy eval model: {test_acc}')"
   ]
  },
  {
   "cell_type": "markdown",
   "id": "d3493e1d-28e3-4477-8f1f-57b3af32e9d6",
   "metadata": {},
   "source": [
    "### Capture the flag"
   ]
  },
  {
   "cell_type": "code",
   "execution_count": 17,
   "id": "ad5efda8-c05d-4afe-ae40-adca600bda21",
   "metadata": {},
   "outputs": [],
   "source": [
    "def return_all_weight_from_layers_uni(layers):\n",
    "    for element in layers:\n",
    "        yield str(element)[-1]"
   ]
  },
  {
   "cell_type": "code",
   "execution_count": 18,
   "id": "123a7b0b-9e6d-4aac-826c-1fa6003dcb3e",
   "metadata": {},
   "outputs": [
    {
     "name": "stdout",
     "output_type": "stream",
     "text": [
      "ictf{EviLModel:devil}\n"
     ]
    }
   ],
   "source": [
    "CFLAG = []\n",
    "for _flag_char in loaded_weights_json[1]:\n",
    "    CFLAG.append(chr(int(str(_flag_char)[-3:])))\n",
    "    \n",
    "print(''.join(CFLAG))\n",
    "\n",
    "# [105, 99, 116, 102, 123, 69, 118, 105, 76, 77, 111, 100, 101, 108, 58, 100, 101, 118, 105, 108, 125]"
   ]
  },
  {
   "cell_type": "code",
   "execution_count": null,
   "id": "289e358c-557c-47ce-b6b4-083418f919b4",
   "metadata": {},
   "outputs": [],
   "source": []
  }
 ],
 "metadata": {
  "kernelspec": {
   "display_name": "Python 3 (ipykernel)",
   "language": "python",
   "name": "python3"
  },
  "language_info": {
   "codemirror_mode": {
    "name": "ipython",
    "version": 3
   },
   "file_extension": ".py",
   "mimetype": "text/x-python",
   "name": "python",
   "nbconvert_exporter": "python",
   "pygments_lexer": "ipython3",
   "version": "3.10.9"
  }
 },
 "nbformat": 4,
 "nbformat_minor": 5
}
