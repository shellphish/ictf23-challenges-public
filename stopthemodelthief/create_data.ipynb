{
 "cells": [
  {
   "cell_type": "code",
   "execution_count": 1,
   "metadata": {},
   "outputs": [],
   "source": [
    "import numpy as np\n",
    "import pickle\n",
    "import random\n",
    "import copy"
   ]
  },
  {
   "cell_type": "code",
   "execution_count": 2,
   "metadata": {},
   "outputs": [],
   "source": [
    "# read the raw data and transform it to an image format\n",
    "with open('test_batch', 'rb') as fo:\n",
    "    dict = pickle.load(fo, encoding='latin1')\n",
    "\n",
    "test_images = dict[\"data\"].reshape((-1, 3, 32, 32)).astype(\"float32\")\n",
    "test_images = test_images.transpose(0,2,3,1).astype(int)"
   ]
  },
  {
   "cell_type": "code",
   "execution_count": 3,
   "metadata": {},
   "outputs": [
    {
     "name": "stdout",
     "output_type": "stream",
     "text": [
      "(166, 32, 32, 3)\n"
     ]
    }
   ],
   "source": [
    "# generate attack images\n",
    "\n",
    "np.random.seed(3787)\n",
    "select_attacks = np.random.choice(len(test_images), size=20, replace=False)\n",
    "rem_indices = np.setdiff1d(np.arange(len(test_images)), select_attacks)\n",
    "test_images = test_images[rem_indices]\n",
    "\n",
    "attack_repeats = np.random.randint(5, 12, size=len(select_attacks))\n",
    "\n",
    "attack_images = []\n",
    "mean = 0\n",
    "sigma = 5\n",
    "for ii, idx in enumerate(select_attacks):\n",
    "    for jj in range(attack_repeats[ii]):\n",
    "      gauss = np.round(np.random.normal(mean,sigma,test_images[0].shape)).astype(int)\n",
    "      attack_images.append(np.clip(test_images[idx] + gauss, a_min=0, a_max=255))\n",
    "\n",
    "attack_images = np.asarray(attack_images)\n",
    "attack_images_indices = np.arange(len(attack_images))\n",
    "np.random.shuffle(attack_images_indices)\n",
    "attack_images = attack_images[attack_images_indices]\n",
    "\n",
    "test_images_indices = np.arange(len(test_images))\n",
    "np.random.shuffle(test_images_indices)\n",
    "test_images = test_images[test_images_indices]\n",
    "\n",
    "test_images_w_attack = np.vstack((test_images, attack_images)).astype(np.uint8)\n",
    "\n",
    "print(attack_images.shape)"
   ]
  },
  {
   "cell_type": "code",
   "execution_count": 4,
   "metadata": {},
   "outputs": [],
   "source": [
    "# distribute the images between good and bad users\n",
    "\n",
    "random.seed(8112)\n",
    "np.random.seed(398)\n",
    "\n",
    "num_good_users = 500\n",
    "num_bad_users = 20\n",
    "\n",
    "def split_indices(chunk_sizes, start_idx=0):\n",
    "\n",
    "    cur_idx = start_idx\n",
    "    chunk_indices = []\n",
    "    for ii, chunk_size in enumerate(chunk_sizes):\n",
    "        chunk_indices.append(np.arange(cur_idx, cur_idx+chunk_sizes[ii]))\n",
    "        cur_idx += chunk_size\n",
    "    return chunk_indices\n",
    "\n",
    "all_user_ids = np.arange(num_good_users+num_bad_users)\n",
    "good_users_ids = np.random.choice(all_user_ids, size=num_good_users, replace=False)\n",
    "bad_users_ids = np.setdiff1d(all_user_ids, good_users_ids)\n",
    "\n",
    "good_users_data = {ii:[] for ii in good_users_ids}\n",
    "bad_users_data = {ii:[] for ii in bad_users_ids}\n",
    "\n",
    "all_good_indices = np.arange(len(test_images))\n",
    "all_bad_indices = np.arange(len(attack_images))\n",
    "\n",
    "good_chunk_sizes = np.random.randint(low=9, high=30, size=(num_good_users))\n",
    "bad_user_good_chunk_sizes = np.random.randint(low=4, high=18, size=(num_bad_users))\n",
    "bad_chunk_sizes = attack_repeats\n",
    "\n",
    "good_chunk_indices = split_indices(good_chunk_sizes)\n",
    "bad_user_good_chunk_indices = split_indices(bad_user_good_chunk_sizes, start_idx=sum(good_chunk_sizes))\n",
    "\n",
    "bad_chunk_indices = split_indices(bad_chunk_sizes, start_idx=len(test_images))\n",
    "\n",
    "for ii, un in enumerate(good_users_data):\n",
    "    good_users_data[un].extend(good_chunk_indices[ii])\n",
    "\n",
    "for ii, un in enumerate(bad_users_data):\n",
    "    bad_users_data[un].extend(bad_user_good_chunk_indices[ii])\n",
    "    bad_users_data[un].extend(bad_chunk_indices[ii])"
   ]
  },
  {
   "cell_type": "code",
   "execution_count": 5,
   "metadata": {},
   "outputs": [],
   "source": [
    "# shuffle the image indices\n",
    "\n",
    "all_indices = np.arange(len(test_images_w_attack))\n",
    "np.random.shuffle(all_indices)\n",
    "index_mapping = {ii:np.where(all_indices == ii)[0][0] for ii in np.arange(len(test_images_w_attack))}\n",
    "\n",
    "test_images_w_attack_shuffled = test_images_w_attack[all_indices]\n",
    "\n",
    "good_users_data_remapped = copy.deepcopy(good_users_data)\n",
    "\n",
    "for un in good_users_data:\n",
    "    new_indices = np.asarray([index_mapping[ii] for ii in good_users_data[un]])\n",
    "    np.random.shuffle(new_indices)\n",
    "    good_users_data_remapped[un] = new_indices\n",
    "\n",
    "bad_users_data_remapped = copy.deepcopy(bad_users_data)\n",
    "\n",
    "for un in bad_users_data:\n",
    "    try:\n",
    "        new_indices = np.asarray([index_mapping[ii] for ii in bad_users_data[un]])\n",
    "    except:\n",
    "        print(un)\n",
    "    np.random.shuffle(new_indices)\n",
    "    bad_users_data_remapped[un] = new_indices"
   ]
  },
  {
   "cell_type": "code",
   "execution_count": 6,
   "metadata": {},
   "outputs": [],
   "source": [
    "# generate challlenge data format\n",
    "\n",
    "\n",
    "with open('model_queries.npy', 'wb') as fp:\n",
    "    np.save(fp, test_images_w_attack_shuffled)\n",
    "\n",
    "# python dicts preserve insert order, shuffle the keys\n",
    "user_query_indices = {**good_users_data_remapped, **bad_users_data_remapped}\n",
    "user_names = sorted(list(user_query_indices.keys()))\n",
    "\n",
    "user_queryies_str = '\\n'.join([f\"{','.join([str(i) for i in user_query_indices[un]])}\" for un in user_names])\n",
    "\n",
    "fp = open('user_query_indices.txt', 'w')\n",
    "fp.write(user_queryies_str)\n",
    "fp.close()"
   ]
  },
  {
   "cell_type": "code",
   "execution_count": 7,
   "metadata": {},
   "outputs": [],
   "source": [
    "bad_users_string = f','.join([str(i) for i in np.sort(bad_users_ids)])\n",
    "flag = f'ictf{{{bad_users_string}}}'\n",
    "\n",
    "fp = open('flag.txt', 'w')\n",
    "fp.write(flag)\n",
    "fp.close()"
   ]
  }
 ],
 "metadata": {
  "kernelspec": {
   "display_name": "pytorch",
   "language": "python",
   "name": "python3"
  },
  "language_info": {
   "codemirror_mode": {
    "name": "ipython",
    "version": 3
   },
   "file_extension": ".py",
   "mimetype": "text/x-python",
   "name": "python",
   "nbconvert_exporter": "python",
   "pygments_lexer": "ipython3",
   "version": "3.8.8"
  }
 },
 "nbformat": 4,
 "nbformat_minor": 2
}
